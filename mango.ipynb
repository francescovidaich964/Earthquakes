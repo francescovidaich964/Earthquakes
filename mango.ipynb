{
 "cells": [
  {
   "cell_type": "code",
   "execution_count": 4,
   "metadata": {},
   "outputs": [],
   "source": [
    "import pandas as pd\n",
    "import numpy as np\n",
    "import scipy as sp\n",
    "import matplotlib.pyplot as plt"
   ]
  },
  {
   "cell_type": "code",
   "execution_count": 3,
   "metadata": {},
   "outputs": [
    {
     "data": {
      "text/plain": [
       "(110269, 7)"
      ]
     },
     "execution_count": 3,
     "metadata": {},
     "output_type": "execute_result"
    }
   ],
   "source": [
    "file = '/home/mango/Documents/unipd/Earthquakes/SouthCalifornia-1982-2011_Physics-of-Data.dat' \n",
    "data = np.genfromtxt(file, skip_header=0, skip_footer=1, \n",
    "                     names=True, dtype=None, delimiter=' ')         \n",
    "header = [\"id\",\"id_prv\",\"time\",\"magnitude\",\"x\",\"y\", \"z\"]\n",
    "df = pd.DataFrame(data)\n",
    "df.columns = header\n",
    "df.shape"
   ]
  },
  {
   "cell_type": "code",
   "execution_count": 4,
   "metadata": {},
   "outputs": [],
   "source": [
    "#plt.plot(df[\"time\"], df[\"magnitude\"])\n",
    "#plt.plot(df[\"time\"], df[\"x\"])\n",
    "#plt.plot(df[\"time\"], df[\"y\"])\n",
    "#plt.plot(df[\"time\"], df[\"z\"])\n",
    "#plt.plot(df[\"time\"], df[\"id_prv\"])\n"
   ]
  },
  {
   "cell_type": "code",
   "execution_count": 5,
   "metadata": {},
   "outputs": [
    {
     "data": {
      "text/html": [
       "<div>\n",
       "<style scoped>\n",
       "    .dataframe tbody tr th:only-of-type {\n",
       "        vertical-align: middle;\n",
       "    }\n",
       "\n",
       "    .dataframe tbody tr th {\n",
       "        vertical-align: top;\n",
       "    }\n",
       "\n",
       "    .dataframe thead th {\n",
       "        text-align: right;\n",
       "    }\n",
       "</style>\n",
       "<table border=\"1\" class=\"dataframe\">\n",
       "  <thead>\n",
       "    <tr style=\"text-align: right;\">\n",
       "      <th></th>\n",
       "      <th>id</th>\n",
       "      <th>id_prv</th>\n",
       "      <th>time</th>\n",
       "      <th>magnitude</th>\n",
       "      <th>x</th>\n",
       "      <th>y</th>\n",
       "      <th>z</th>\n",
       "    </tr>\n",
       "  </thead>\n",
       "  <tbody>\n",
       "    <tr>\n",
       "      <th>count</th>\n",
       "      <td>110269.000000</td>\n",
       "      <td>110269.000000</td>\n",
       "      <td>1.102690e+05</td>\n",
       "      <td>110269.000000</td>\n",
       "      <td>1.102690e+05</td>\n",
       "      <td>1.102690e+05</td>\n",
       "      <td>1.102690e+05</td>\n",
       "    </tr>\n",
       "    <tr>\n",
       "      <th>mean</th>\n",
       "      <td>55135.000000</td>\n",
       "      <td>35859.928040</td>\n",
       "      <td>4.262419e+08</td>\n",
       "      <td>2.457910</td>\n",
       "      <td>-2.388222e+06</td>\n",
       "      <td>-4.691075e+06</td>\n",
       "      <td>3.562611e+06</td>\n",
       "    </tr>\n",
       "    <tr>\n",
       "      <th>std</th>\n",
       "      <td>31832.062754</td>\n",
       "      <td>36365.010382</td>\n",
       "      <td>2.598553e+08</td>\n",
       "      <td>0.438371</td>\n",
       "      <td>8.877740e+04</td>\n",
       "      <td>1.237274e+05</td>\n",
       "      <td>1.271892e+05</td>\n",
       "    </tr>\n",
       "    <tr>\n",
       "      <th>min</th>\n",
       "      <td>1.000000</td>\n",
       "      <td>-1.000000</td>\n",
       "      <td>3.650139e+04</td>\n",
       "      <td>2.000000</td>\n",
       "      <td>-2.770239e+06</td>\n",
       "      <td>-5.020849e+06</td>\n",
       "      <td>3.186133e+06</td>\n",
       "    </tr>\n",
       "    <tr>\n",
       "      <th>25%</th>\n",
       "      <td>27568.000000</td>\n",
       "      <td>-1.000000</td>\n",
       "      <td>2.115798e+08</td>\n",
       "      <td>2.140000</td>\n",
       "      <td>-2.421613e+06</td>\n",
       "      <td>-4.801153e+06</td>\n",
       "      <td>3.458836e+06</td>\n",
       "    </tr>\n",
       "    <tr>\n",
       "      <th>50%</th>\n",
       "      <td>55135.000000</td>\n",
       "      <td>28462.000000</td>\n",
       "      <td>3.551023e+08</td>\n",
       "      <td>2.340000</td>\n",
       "      <td>-2.361828e+06</td>\n",
       "      <td>-4.699729e+06</td>\n",
       "      <td>3.564367e+06</td>\n",
       "    </tr>\n",
       "    <tr>\n",
       "      <th>75%</th>\n",
       "      <td>82702.000000</td>\n",
       "      <td>66974.000000</td>\n",
       "      <td>5.952375e+08</td>\n",
       "      <td>2.640000</td>\n",
       "      <td>-2.329898e+06</td>\n",
       "      <td>-4.615063e+06</td>\n",
       "      <td>3.634542e+06</td>\n",
       "    </tr>\n",
       "    <tr>\n",
       "      <th>max</th>\n",
       "      <td>110269.000000</td>\n",
       "      <td>110250.000000</td>\n",
       "      <td>9.305363e+08</td>\n",
       "      <td>7.300000</td>\n",
       "      <td>-1.998294e+06</td>\n",
       "      <td>-4.268289e+06</td>\n",
       "      <td>3.876120e+06</td>\n",
       "    </tr>\n",
       "  </tbody>\n",
       "</table>\n",
       "</div>"
      ],
      "text/plain": [
       "                  id         id_prv          time      magnitude  \\\n",
       "count  110269.000000  110269.000000  1.102690e+05  110269.000000   \n",
       "mean    55135.000000   35859.928040  4.262419e+08       2.457910   \n",
       "std     31832.062754   36365.010382  2.598553e+08       0.438371   \n",
       "min         1.000000      -1.000000  3.650139e+04       2.000000   \n",
       "25%     27568.000000      -1.000000  2.115798e+08       2.140000   \n",
       "50%     55135.000000   28462.000000  3.551023e+08       2.340000   \n",
       "75%     82702.000000   66974.000000  5.952375e+08       2.640000   \n",
       "max    110269.000000  110250.000000  9.305363e+08       7.300000   \n",
       "\n",
       "                  x             y             z  \n",
       "count  1.102690e+05  1.102690e+05  1.102690e+05  \n",
       "mean  -2.388222e+06 -4.691075e+06  3.562611e+06  \n",
       "std    8.877740e+04  1.237274e+05  1.271892e+05  \n",
       "min   -2.770239e+06 -5.020849e+06  3.186133e+06  \n",
       "25%   -2.421613e+06 -4.801153e+06  3.458836e+06  \n",
       "50%   -2.361828e+06 -4.699729e+06  3.564367e+06  \n",
       "75%   -2.329898e+06 -4.615063e+06  3.634542e+06  \n",
       "max   -1.998294e+06 -4.268289e+06  3.876120e+06  "
      ]
     },
     "execution_count": 5,
     "metadata": {},
     "output_type": "execute_result"
    }
   ],
   "source": [
    "df.describe()"
   ]
  },
  {
   "cell_type": "code",
   "execution_count": 16,
   "metadata": {},
   "outputs": [],
   "source": [
    "def bins_histogram(data, precision=0.01):\n",
    "    \"\"\"\n",
    "    Params\n",
    "    \n",
    "    data: 1d numpy array\n",
    "    precision: desired poisson precision of bins\n",
    "    \"\"\"\n",
    "    N = int(pow(1/precision,2))\n",
    "    data.sort()\n",
    "    x = data[::N]\n",
    "    y = data[1::N]\n",
    "    if y.shape[0] == x.shape[0]:\n",
    "        bins = np.concatenate((np.array(data.min()[np.newaxis]),(x[1:] + y[1:])/2, np.array(data.max()[np.newaxis])))\n",
    "    else:\n",
    "        bins = np.concatenate((np.array(data.min()[np.newaxis]),(x[1:-1] + y[1:])/2, np.array(data.max()[np.newaxis])))\n",
    "    return bins"
   ]
  },
  {
   "cell_type": "code",
   "execution_count": 17,
   "metadata": {},
   "outputs": [
    {
     "name": "stdout",
     "output_type": "stream",
     "text": [
      "[1.22694862e-05 1.00384288e-01 1.99919742e-01 2.99484822e-01\n",
      " 4.01228069e-01 5.02255966e-01 6.03793427e-01 7.01866388e-01\n",
      " 8.01654206e-01 9.01442879e-01 9.99999638e-01]\n",
      "[1.22694862e-05 1.23638915e-05 2.62215176e-05 ... 9.99979773e-01\n",
      " 9.99990548e-01 9.99999638e-01]\n"
     ]
    }
   ],
   "source": [
    "data = np.random.rand(100000)\n",
    "bins = p_histogram(data)\n",
    "print(bins)\n",
    "print(data)\n"
   ]
  },
  {
   "cell_type": "code",
   "execution_count": null,
   "metadata": {},
   "outputs": [],
   "source": []
  }
 ],
 "metadata": {
  "kernelspec": {
   "display_name": "Python 3",
   "language": "python",
   "name": "python3"
  },
  "language_info": {
   "codemirror_mode": {
    "name": "ipython",
    "version": 3
   },
   "file_extension": ".py",
   "mimetype": "text/x-python",
   "name": "python",
   "nbconvert_exporter": "python",
   "pygments_lexer": "ipython3",
   "version": "3.7.0"
  }
 },
 "nbformat": 4,
 "nbformat_minor": 2
}
