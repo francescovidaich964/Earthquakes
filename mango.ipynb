{
 "cells": [
  {
   "cell_type": "code",
   "execution_count": 5,
   "metadata": {},
   "outputs": [],
   "source": [
    "import pandas as pd\n",
    "import numpy as np\n",
    "import scipy as sp\n",
    "import matplotlib.pyplot as plt"
   ]
  },
  {
   "cell_type": "code",
   "execution_count": 13,
   "metadata": {},
   "outputs": [
    {
     "data": {
      "text/plain": [
       "(110271, 7)"
      ]
     },
     "execution_count": 13,
     "metadata": {},
     "output_type": "execute_result"
    }
   ],
   "source": [
    "file = '/home/mango/Documents/unipd/magistrale/Earthquakes/SouthCalifornia-1982-2011_Physics-of-Data.dat' \n",
    "data = np.genfromtxt(file, dtype=None, delimiter=' ')         \n",
    "header = [\"id\",\"id_prv\",\"time\",\"magnitude\",\"x\",\"y\", \"z\"]\n",
    "df = pd.DataFrame(data)\n",
    "df.columns = header\n",
    "df.shape"
   ]
  },
  {
   "cell_type": "code",
   "execution_count": 14,
   "metadata": {},
   "outputs": [],
   "source": [
    "#plt.plot(df[\"time\"], df[\"magnitude\"])\n",
    "#plt.plot(df[\"time\"], df[\"x\"])\n",
    "#plt.plot(df[\"time\"], df[\"y\"])\n",
    "#plt.plot(df[\"time\"], df[\"z\"])\n",
    "#plt.plot(df[\"time\"], df[\"id_prv\"])\n"
   ]
  },
  {
   "cell_type": "code",
   "execution_count": 15,
   "metadata": {},
   "outputs": [
    {
     "data": {
      "text/html": [
       "<div>\n",
       "<style scoped>\n",
       "    .dataframe tbody tr th:only-of-type {\n",
       "        vertical-align: middle;\n",
       "    }\n",
       "\n",
       "    .dataframe tbody tr th {\n",
       "        vertical-align: top;\n",
       "    }\n",
       "\n",
       "    .dataframe thead th {\n",
       "        text-align: right;\n",
       "    }\n",
       "</style>\n",
       "<table border=\"1\" class=\"dataframe\">\n",
       "  <thead>\n",
       "    <tr style=\"text-align: right;\">\n",
       "      <th></th>\n",
       "      <th>id</th>\n",
       "      <th>id_prv</th>\n",
       "      <th>time</th>\n",
       "      <th>magnitude</th>\n",
       "      <th>x</th>\n",
       "      <th>y</th>\n",
       "      <th>z</th>\n",
       "    </tr>\n",
       "  </thead>\n",
       "  <tbody>\n",
       "    <tr>\n",
       "      <th>0</th>\n",
       "      <td>0</td>\n",
       "      <td>-1</td>\n",
       "      <td>0.0</td>\n",
       "      <td>2.71</td>\n",
       "      <td>-2571956</td>\n",
       "      <td>-4627162</td>\n",
       "      <td>3520602</td>\n",
       "    </tr>\n",
       "  </tbody>\n",
       "</table>\n",
       "</div>"
      ],
      "text/plain": [
       "   id  id_prv  time  magnitude        x        y        z\n",
       "0   0      -1   0.0       2.71 -2571956 -4627162  3520602"
      ]
     },
     "execution_count": 15,
     "metadata": {},
     "output_type": "execute_result"
    }
   ],
   "source": []
  },
  {
   "cell_type": "code",
   "execution_count": null,
   "metadata": {},
   "outputs": [],
   "source": [
    "def bins_histogram(data, precision=0.01, len_bin_min=0.1):\n",
    "    \"\"\"\n",
    "    Params\n",
    "    \n",
    "    data: 1d numpy array\n",
    "    precision: desired poisson precision of bins\n",
    "    \"\"\"\n",
    "    N = int(pow(1/precision,2))\n",
    "    data.sort()\n",
    "    x = data[::N]\n",
    "    y = data[1::N]\n",
    "    if y.shape[0] == x.shape[0]:\n",
    "        bins = np.concatenate((np.array(data.min()[np.newaxis]),(x[1:] + y[1:])/2, np.array(data.max()[np.newaxis])))\n",
    "    else:\n",
    "        bins = np.concatenate((np.array(data.min()[np.newaxis]),(x[1:-1] + y[1:])/2, np.array(data.max()[np.newaxis])))\n",
    "    return bins"
   ]
  },
  {
   "cell_type": "code",
   "execution_count": null,
   "metadata": {},
   "outputs": [],
   "source": [
    "data.shape"
   ]
  },
  {
   "cell_type": "code",
   "execution_count": null,
   "metadata": {},
   "outputs": [],
   "source": [
    "data = np.array(df[\"time\"])\n",
    "data.sort()\n",
    "diff_data = data[1:] - data[:-1]\n",
    "print(diff_data.min())\n",
    "bins = bins_histogram(diff_data, 0.01)\n",
    "print(bins)\n",
    "print(data)\n"
   ]
  },
  {
   "cell_type": "code",
   "execution_count": null,
   "metadata": {},
   "outputs": [],
   "source": [
    "\n",
    "\n",
    "data1 = np.log(data)\n",
    "bins1 = np.log(bins)"
   ]
  },
  {
   "cell_type": "code",
   "execution_count": null,
   "metadata": {},
   "outputs": [],
   "source": [
    "data = np.array(df[\"time\"])\n",
    "data.sort()\n",
    "diff_data = data[1:]-data[:-1]\n",
    "plt.hist(diff_data[diff_data<200000], log=True)"
   ]
  },
  {
   "cell_type": "code",
   "execution_count": null,
   "metadata": {},
   "outputs": [],
   "source": [
    "def select_bin_number(x, min_nbin = 7, fraction = 0.001):\n",
    "    n_min = fraction*len(x)\n",
    "\n",
    "    n, bin_extremes, _ = plt.hist(x, bins = min_nbin )\n",
    "    plt.close()\n",
    "    last_n = n[-1]\n",
    "\n",
    "    if last_n > n_min:\n",
    "        return min_nbin, bin_extremes\n",
    "    else:\n",
    "        i = min_nbin\n",
    "        nbin = min_nbin\n",
    "        while last_n < n_min and nbin < 100:\n",
    "            nbin = nbin + 1\n",
    "            #print('Attempt with nbin = {} \\n'.format(nbin))\n",
    "            n, _, _ = plt.hist(x, bins = nbin )\n",
    "            plt.close()\n",
    "            #print(n[i-1:])\n",
    "            last_n = n[i-1:].sum()\n",
    "            #print('Last n: ', last_n)\n",
    "            #print('All n : ', n.sum())\n",
    "\n",
    "        n, bin_extremes, _ = plt.hist(x, bins = nbin )\n",
    "        plt.close()\n",
    "        bins = np.concatenate((bin_extremes[:min_nbin],bin_extremes[-1:]))\n",
    "        return nbin, bins "
   ]
  },
  {
   "cell_type": "code",
   "execution_count": null,
   "metadata": {},
   "outputs": [],
   "source": [
    "filtered =df[df[\"magnitude\"]>3]\n",
    "times = np.array(filtered[\"time\"])\n",
    "min_nbin = 7\n",
    "fraction = 0.001\n",
    "n_bin = fraction*len(diff)\n",
    "n, bin_extremes, _ = plt.hist(x, bins = min_nbin)\n"
   ]
  },
  {
   "cell_type": "code",
   "execution_count": null,
   "metadata": {},
   "outputs": [],
   "source": [
    "ev = {'1':{'2':{'6','7'},'3'}} \n",
    "for key in ev:\n",
    "    for key2 in ev[key]:\n",
    "        "
   ]
  },
  {
   "cell_type": "code",
   "execution_count": null,
   "metadata": {},
   "outputs": [],
   "source": [
    "def evees(df, index=-1):\n",
    "    dataset = {}\n",
    "    df_filtered = df[df[\"id_prv\"]==index]\n",
    "    lenght =  df_filtered.shape[0]\n",
    "    for i in range(lenght):\n",
    "        event = df_filtered.iloc[i]\n",
    "        dataset[str(event[\"id\"])] = {\"event\" : event}\n",
    "        dataset[str(event[\"id\"])][\"cilds\"] = evees(df, index=int(event[\"id\"]))\n",
    "    return dataset\n",
    "\n"
   ]
  },
  {
   "cell_type": "code",
   "execution_count": null,
   "metadata": {},
   "outputs": [],
   "source": [
    "depths = []\n",
    "j = 0\n",
    "def evees_light(df, index=-1, depth=0):\n",
    "    global j\n",
    "    j += 1\n",
    "    dataset = {}\n",
    "    df_filtered = df[df[\"id_prv\"]==index]\n",
    "    lenght =  df_filtered.shape[0]\n",
    "    if lenght == 0:\n",
    "        depths.append(depth)\n",
    "    for i in range(lenght):\n",
    "        event = df_filtered.iloc[i]\n",
    "        #dataset[str(event[\"id\"])] = {\"event\" : event}\n",
    "        dataset[str(event[\"id\"])] = {\"depth\" : depth}\n",
    "        dataset[str(event[\"id\"])][\"cilds\"] = evees_light(df, index=int(event[\"id\"]), depth = depth + 1)\n",
    "    return dataset"
   ]
  },
  {
   "cell_type": "code",
   "execution_count": null,
   "metadata": {},
   "outputs": [],
   "source": []
  }
 ],
 "metadata": {
  "kernelspec": {
   "display_name": "Python 3",
   "language": "python",
   "name": "python3"
  },
  "language_info": {
   "codemirror_mode": {
    "name": "ipython",
    "version": 3
   },
   "file_extension": ".py",
   "mimetype": "text/x-python",
   "name": "python",
   "nbconvert_exporter": "python",
   "pygments_lexer": "ipython3",
   "version": "3.7.1"
  }
 },
 "nbformat": 4,
 "nbformat_minor": 2
}
