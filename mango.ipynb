{
 "cells": [
  {
   "cell_type": "code",
   "execution_count": 1,
   "metadata": {},
   "outputs": [],
   "source": [
    "import pandas as pd\n",
    "import numpy as np\n",
    "import scipy as sp\n",
    "import matplotlib.pyplot as plt"
   ]
  },
  {
   "cell_type": "code",
   "execution_count": 3,
   "metadata": {},
   "outputs": [
    {
     "data": {
      "text/plain": [
       "(110271, 7)"
      ]
     },
     "execution_count": 3,
     "metadata": {},
     "output_type": "execute_result"
    }
   ],
   "source": [
    "file = 'SouthCalifornia-1982-2011_Physics-of-Data.dat' \n",
    "data = np.genfromtxt(file, dtype=None, delimiter=' ')         \n",
    "header = [\"id\",\"id_prv\",\"time\",\"magnitude\",\"x\",\"y\", \"z\"]\n",
    "df = pd.DataFrame(data)\n",
    "df.columns = header\n",
    "df.shape"
   ]
  },
  {
   "cell_type": "code",
   "execution_count": 4,
   "metadata": {},
   "outputs": [],
   "source": [
    "#plt.plot(df[\"time\"], df[\"magnitude\"])\n",
    "#plt.plot(df[\"time\"], df[\"x\"])\n",
    "#plt.plot(df[\"time\"], df[\"y\"])\n",
    "#plt.plot(df[\"time\"], df[\"z\"])\n",
    "#plt.plot(df[\"time\"], df[\"id_prv\"])\n"
   ]
  },
  {
   "cell_type": "code",
   "execution_count": 5,
   "metadata": {},
   "outputs": [],
   "source": [
    "def bins_histogram(data, precision=0.01, len_bin_min=0.1):\n",
    "    \"\"\"\n",
    "    Params\n",
    "    \n",
    "    data: 1d numpy array\n",
    "    precision: desired poisson precision of bins\n",
    "    \"\"\"\n",
    "    N = int(pow(1/precision,2))\n",
    "    data.sort()\n",
    "    x = data[::N]\n",
    "    y = data[1::N]\n",
    "    if y.shape[0] == x.shape[0]:\n",
    "        bins = np.concatenate((np.array(data.min()[np.newaxis]),(x[1:] + y[1:])/2, np.array(data.max()[np.newaxis])))\n",
    "    else:\n",
    "        bins = np.concatenate((np.array(data.min()[np.newaxis]),(x[1:-1] + y[1:])/2, np.array(data.max()[np.newaxis])))\n",
    "    return bins"
   ]
  },
  {
   "cell_type": "code",
   "execution_count": 6,
   "metadata": {},
   "outputs": [
    {
     "data": {
      "text/plain": [
       "(110271,)"
      ]
     },
     "execution_count": 6,
     "metadata": {},
     "output_type": "execute_result"
    }
   ],
   "source": [
    "data.shape"
   ]
  },
  {
   "cell_type": "code",
   "execution_count": 7,
   "metadata": {},
   "outputs": [
    {
     "name": "stdout",
     "output_type": "stream",
     "text": [
      "0.0\n",
      "[0.00000000e+00 8.43523200e+01 2.42611200e+02 5.27381280e+02\n",
      " 1.06130736e+03 1.97107344e+03 3.40924464e+03 5.58512496e+03\n",
      " 8.89703136e+03 1.43241610e+04 2.48592586e+04 1.02617029e+05\n",
      " 1.07345769e+06]\n",
      "[0.00000000e+00 3.65013907e+04 3.74882774e+04 ... 9.30531796e+08\n",
      " 9.30536269e+08 9.30566736e+08]\n"
     ]
    }
   ],
   "source": [
    "data = np.array(df[\"time\"])\n",
    "data.sort()\n",
    "diff_data = data[1:] - data[:-1]\n",
    "print(diff_data.min())\n",
    "bins = bins_histogram(diff_data, 0.01)\n",
    "print(bins)\n",
    "print(data)\n"
   ]
  },
  {
   "cell_type": "code",
   "execution_count": 8,
   "metadata": {},
   "outputs": [
    {
     "name": "stderr",
     "output_type": "stream",
     "text": [
      "/home/nicola/anaconda3/lib/python3.7/site-packages/ipykernel_launcher.py:3: RuntimeWarning: divide by zero encountered in log\n",
      "  This is separate from the ipykernel package so we can avoid doing imports until\n",
      "/home/nicola/anaconda3/lib/python3.7/site-packages/ipykernel_launcher.py:4: RuntimeWarning: divide by zero encountered in log\n",
      "  after removing the cwd from sys.path.\n"
     ]
    }
   ],
   "source": [
    "\n",
    "\n",
    "data1 = np.log(data)\n",
    "bins1 = np.log(bins)"
   ]
  },
  {
   "cell_type": "code",
   "execution_count": 9,
   "metadata": {},
   "outputs": [
    {
     "data": {
      "text/plain": [
       "(array([9.6308e+04, 9.3780e+03, 2.8730e+03, 1.0070e+03, 4.0500e+02,\n",
       "        1.5100e+02, 7.7000e+01, 3.5000e+01, 2.1000e+01, 6.0000e+00]),\n",
       " array([     0.        ,  19908.726912  ,  39817.453824  ,  59726.18073599,\n",
       "         79634.90764799,  99543.63455999, 119452.36147199, 139361.08838398,\n",
       "        159269.81529598, 179178.54220798, 199087.26911998]),\n",
       " <a list of 10 Patch objects>)"
      ]
     },
     "execution_count": 9,
     "metadata": {},
     "output_type": "execute_result"
    },
    {
     "data": {
      "image/png": "[encoded data removed]",
      "text/plain": [
       "<Figure size 432x288 with 1 Axes>"
      ]
     },
     "metadata": {
      "needs_background": "light"
     },
     "output_type": "display_data"
    }
   ],
   "source": [
    "data = np.array(df[\"time\"])\n",
    "data.sort()\n",
    "diff_data = data[1:]-data[:-1]\n",
    "plt.hist(diff_data[diff_data<200000], log=True)"
   ]
  },
  {
   "cell_type": "code",
   "execution_count": 10,
   "metadata": {},
   "outputs": [],
   "source": [
    "def select_bin_number(x, min_nbin = 7, fraction = 0.001):\n",
    "    n_min = fraction*len(x)\n",
    "\n",
    "    n, bin_extremes, _ = plt.hist(x, bins = min_nbin )\n",
    "    plt.close()\n",
    "    last_n = n[-1]\n",
    "\n",
    "    if last_n > n_min:\n",
    "        return min_nbin, bin_extremes\n",
    "    else:\n",
    "        i = min_nbin\n",
    "        nbin = min_nbin\n",
    "        while last_n < n_min and nbin < 100:\n",
    "            nbin = nbin + 1\n",
    "            #print('Attempt with nbin = {} \\n'.format(nbin))\n",
    "            n, _, _ = plt.hist(x, bins = nbin )\n",
    "            plt.close()\n",
    "            #print(n[i-1:])\n",
    "            last_n = n[i-1:].sum()\n",
    "            #print('Last n: ', last_n)\n",
    "            #print('All n : ', n.sum())\n",
    "\n",
    "        n, bin_extremes, _ = plt.hist(x, bins = nbin )\n",
    "        plt.close()\n",
    "        bins = np.concatenate((bin_extremes[:min_nbin],bin_extremes[-1:]))\n",
    "        return nbin, bins "
   ]
  },
  {
   "cell_type": "code",
   "execution_count": 12,
   "metadata": {},
   "outputs": [
    {
     "ename": "NameError",
     "evalue": "name 'x' is not defined",
     "output_type": "error",
     "traceback": [
      "\u001b[0;31m---------------------------------------------------------------------------\u001b[0m",
      "\u001b[0;31mNameError\u001b[0m                                 Traceback (most recent call last)",
      "\u001b[0;32m<ipython-input-12-6587307a7416>\u001b[0m in \u001b[0;36m<module>\u001b[0;34m()\u001b[0m\n\u001b[1;32m      4\u001b[0m \u001b[0mfraction\u001b[0m \u001b[0;34m=\u001b[0m \u001b[0;36m0.001\u001b[0m\u001b[0;34m\u001b[0m\u001b[0m\n\u001b[1;32m      5\u001b[0m \u001b[0mn_bin\u001b[0m \u001b[0;34m=\u001b[0m \u001b[0mfraction\u001b[0m\u001b[0;34m*\u001b[0m\u001b[0mlen\u001b[0m\u001b[0;34m(\u001b[0m\u001b[0mdiff_data\u001b[0m\u001b[0;34m)\u001b[0m\u001b[0;34m\u001b[0m\u001b[0m\n\u001b[0;32m----> 6\u001b[0;31m \u001b[0mn\u001b[0m\u001b[0;34m,\u001b[0m \u001b[0mbin_extremes\u001b[0m\u001b[0;34m,\u001b[0m \u001b[0m_\u001b[0m \u001b[0;34m=\u001b[0m \u001b[0mplt\u001b[0m\u001b[0;34m.\u001b[0m\u001b[0mhist\u001b[0m\u001b[0;34m(\u001b[0m\u001b[0mx\u001b[0m\u001b[0;34m,\u001b[0m \u001b[0mbins\u001b[0m \u001b[0;34m=\u001b[0m \u001b[0mmin_nbin\u001b[0m\u001b[0;34m)\u001b[0m\u001b[0;34m\u001b[0m\u001b[0m\n\u001b[0m",
      "\u001b[0;31mNameError\u001b[0m: name 'x' is not defined"
     ]
    }
   ],
   "source": [
    "filtered =df[df[\"magnitude\"]>3]\n",
    "times = np.array(filtered[\"time\"])\n",
    "min_nbin = 7\n",
    "fraction = 0.001\n",
    "n_bin = fraction*len(diff_data)\n",
    "n, bin_extremes, _ = plt.hist(x, bins = min_nbin)\n"
   ]
  },
  {
   "cell_type": "code",
   "execution_count": null,
   "metadata": {},
   "outputs": [],
   "source": [
    "ev = {'1':{'2':{'6','7'},'3'}} \n",
    "for key in ev:\n",
    "    for key2 in ev[key]:\n",
    "        "
   ]
  },
  {
   "cell_type": "code",
   "execution_count": 13,
   "metadata": {},
   "outputs": [],
   "source": [
    "def evees(df, index=-1):\n",
    "    dataset = {}\n",
    "    df_filtered = df[df[\"id_prv\"]==index]\n",
    "    lenght =  df_filtered.shape[0]\n",
    "    for i in range(lenght):\n",
    "        event = df_filtered.iloc[i]\n",
    "        dataset[str(event[\"id\"])] = {\"event\" : event}\n",
    "        dataset[str(event[\"id\"])][\"cilds\"] = evees(df, index=int(event[\"id\"]))\n",
    "    return dataset\n",
    "\n"
   ]
  },
  {
   "cell_type": "code",
   "execution_count": 14,
   "metadata": {},
   "outputs": [],
   "source": [
    "depths = []\n",
    "j = 0\n",
    "def evees_light(df, index=-1, depth=0):\n",
    "    global j\n",
    "    j += 1\n",
    "    dataset = {}\n",
    "    df_filtered = df[df[\"id_prv\"]==index]\n",
    "    lenght =  df_filtered.shape[0]\n",
    "    if lenght == 0:\n",
    "        depths.append(depth)\n",
    "    for i in range(lenght):\n",
    "        event = df_filtered.iloc[i]\n",
    "        #dataset[str(event[\"id\"])] = {\"event\" : event}\n",
    "        dataset[str(event[\"id\"])] = {\"depth\" : depth}\n",
    "        dataset[str(event[\"id\"])][\"cilds\"] = evees_light(df, index=int(event[\"id\"]), depth = depth + 1)\n",
    "    return dataset"
   ]
  },
  {
   "cell_type": "code",
   "execution_count": null,
   "metadata": {},
   "outputs": [],
   "source": []
  }
 ],
 "metadata": {
  "kernelspec": {
   "display_name": "Python 3",
   "language": "python",
   "name": "python3"
  },
  "language_info": {
   "codemirror_mode": {
    "name": "ipython",
    "version": 3
   },
   "file_extension": ".py",
   "mimetype": "text/x-python",
   "name": "python",
   "nbconvert_exporter": "python",
   "pygments_lexer": "ipython3",
   "version": "3.7.0"
  }
 },
 "nbformat": 4,
 "nbformat_minor": 2
}
