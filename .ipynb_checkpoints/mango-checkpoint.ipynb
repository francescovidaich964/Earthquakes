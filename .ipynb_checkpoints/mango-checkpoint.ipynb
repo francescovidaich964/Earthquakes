{
 "cells": [
  {
   "cell_type": "code",
   "execution_count": 1,
   "metadata": {},
   "outputs": [],
   "source": [
    "import pandas as pd\n",
    "import numpy as np\n",
    "import scipy as sp\n",
    "import matplotlib.pyplot as plt"
   ]
  },
  {
   "cell_type": "code",
   "execution_count": 3,
   "metadata": {},
   "outputs": [
    {
     "data": {
      "text/plain": [
       "(110269, 7)"
      ]
     },
     "execution_count": 3,
     "metadata": {},
     "output_type": "execute_result"
    }
   ],
   "source": [
    "file = '/home/mango/Documents/unipd/magistrale/Earthquakes/SouthCalifornia-1982-2011_Physics-of-Data.dat' \n",
    "data = np.genfromtxt(file, skip_header=0, skip_footer=1, \n",
    "                     names=True, dtype=None, delimiter=' ')         \n",
    "header = [\"id\",\"id_prv\",\"time\",\"magnitude\",\"x\",\"y\", \"z\"]\n",
    "df = pd.DataFrame(data)\n",
    "df.columns = header\n",
    "df.shape"
   ]
  },
  {
   "cell_type": "code",
   "execution_count": 4,
   "metadata": {},
   "outputs": [],
   "source": [
    "#plt.plot(df[\"time\"], df[\"magnitude\"])\n",
    "#plt.plot(df[\"time\"], df[\"x\"])\n",
    "#plt.plot(df[\"time\"], df[\"y\"])\n",
    "#plt.plot(df[\"time\"], df[\"z\"])\n",
    "#plt.plot(df[\"time\"], df[\"id_prv\"])\n"
   ]
  },
  {
   "cell_type": "code",
   "execution_count": 5,
   "metadata": {},
   "outputs": [
    {
     "data": {
      "text/html": [
       "<div>\n",
       "<style scoped>\n",
       "    .dataframe tbody tr th:only-of-type {\n",
       "        vertical-align: middle;\n",
       "    }\n",
       "\n",
       "    .dataframe tbody tr th {\n",
       "        vertical-align: top;\n",
       "    }\n",
       "\n",
       "    .dataframe thead th {\n",
       "        text-align: right;\n",
       "    }\n",
       "</style>\n",
       "<table border=\"1\" class=\"dataframe\">\n",
       "  <thead>\n",
       "    <tr style=\"text-align: right;\">\n",
       "      <th></th>\n",
       "      <th>id</th>\n",
       "      <th>id_prv</th>\n",
       "      <th>time</th>\n",
       "      <th>magnitude</th>\n",
       "      <th>x</th>\n",
       "      <th>y</th>\n",
       "      <th>z</th>\n",
       "    </tr>\n",
       "  </thead>\n",
       "  <tbody>\n",
       "    <tr>\n",
       "      <th>count</th>\n",
       "      <td>110269.000000</td>\n",
       "      <td>110269.000000</td>\n",
       "      <td>1.102690e+05</td>\n",
       "      <td>110269.000000</td>\n",
       "      <td>1.102690e+05</td>\n",
       "      <td>1.102690e+05</td>\n",
       "      <td>1.102690e+05</td>\n",
       "    </tr>\n",
       "    <tr>\n",
       "      <th>mean</th>\n",
       "      <td>55135.000000</td>\n",
       "      <td>35859.928040</td>\n",
       "      <td>4.262419e+08</td>\n",
       "      <td>2.457910</td>\n",
       "      <td>-2.388222e+06</td>\n",
       "      <td>-4.691075e+06</td>\n",
       "      <td>3.562611e+06</td>\n",
       "    </tr>\n",
       "    <tr>\n",
       "      <th>std</th>\n",
       "      <td>31832.062754</td>\n",
       "      <td>36365.010382</td>\n",
       "      <td>2.598553e+08</td>\n",
       "      <td>0.438371</td>\n",
       "      <td>8.877740e+04</td>\n",
       "      <td>1.237274e+05</td>\n",
       "      <td>1.271892e+05</td>\n",
       "    </tr>\n",
       "    <tr>\n",
       "      <th>min</th>\n",
       "      <td>1.000000</td>\n",
       "      <td>-1.000000</td>\n",
       "      <td>3.650139e+04</td>\n",
       "      <td>2.000000</td>\n",
       "      <td>-2.770239e+06</td>\n",
       "      <td>-5.020849e+06</td>\n",
       "      <td>3.186133e+06</td>\n",
       "    </tr>\n",
       "    <tr>\n",
       "      <th>25%</th>\n",
       "      <td>27568.000000</td>\n",
       "      <td>-1.000000</td>\n",
       "      <td>2.115798e+08</td>\n",
       "      <td>2.140000</td>\n",
       "      <td>-2.421613e+06</td>\n",
       "      <td>-4.801153e+06</td>\n",
       "      <td>3.458836e+06</td>\n",
       "    </tr>\n",
       "    <tr>\n",
       "      <th>50%</th>\n",
       "      <td>55135.000000</td>\n",
       "      <td>28462.000000</td>\n",
       "      <td>3.551023e+08</td>\n",
       "      <td>2.340000</td>\n",
       "      <td>-2.361828e+06</td>\n",
       "      <td>-4.699729e+06</td>\n",
       "      <td>3.564367e+06</td>\n",
       "    </tr>\n",
       "    <tr>\n",
       "      <th>75%</th>\n",
       "      <td>82702.000000</td>\n",
       "      <td>66974.000000</td>\n",
       "      <td>5.952375e+08</td>\n",
       "      <td>2.640000</td>\n",
       "      <td>-2.329898e+06</td>\n",
       "      <td>-4.615063e+06</td>\n",
       "      <td>3.634542e+06</td>\n",
       "    </tr>\n",
       "    <tr>\n",
       "      <th>max</th>\n",
       "      <td>110269.000000</td>\n",
       "      <td>110250.000000</td>\n",
       "      <td>9.305363e+08</td>\n",
       "      <td>7.300000</td>\n",
       "      <td>-1.998294e+06</td>\n",
       "      <td>-4.268289e+06</td>\n",
       "      <td>3.876120e+06</td>\n",
       "    </tr>\n",
       "  </tbody>\n",
       "</table>\n",
       "</div>"
      ],
      "text/plain": [
       "                  id         id_prv          time      magnitude  \\\n",
       "count  110269.000000  110269.000000  1.102690e+05  110269.000000   \n",
       "mean    55135.000000   35859.928040  4.262419e+08       2.457910   \n",
       "std     31832.062754   36365.010382  2.598553e+08       0.438371   \n",
       "min         1.000000      -1.000000  3.650139e+04       2.000000   \n",
       "25%     27568.000000      -1.000000  2.115798e+08       2.140000   \n",
       "50%     55135.000000   28462.000000  3.551023e+08       2.340000   \n",
       "75%     82702.000000   66974.000000  5.952375e+08       2.640000   \n",
       "max    110269.000000  110250.000000  9.305363e+08       7.300000   \n",
       "\n",
       "                  x             y             z  \n",
       "count  1.102690e+05  1.102690e+05  1.102690e+05  \n",
       "mean  -2.388222e+06 -4.691075e+06  3.562611e+06  \n",
       "std    8.877740e+04  1.237274e+05  1.271892e+05  \n",
       "min   -2.770239e+06 -5.020849e+06  3.186133e+06  \n",
       "25%   -2.421613e+06 -4.801153e+06  3.458836e+06  \n",
       "50%   -2.361828e+06 -4.699729e+06  3.564367e+06  \n",
       "75%   -2.329898e+06 -4.615063e+06  3.634542e+06  \n",
       "max   -1.998294e+06 -4.268289e+06  3.876120e+06  "
      ]
     },
     "execution_count": 5,
     "metadata": {},
     "output_type": "execute_result"
    }
   ],
   "source": [
    "df.describe()"
   ]
  },
  {
   "cell_type": "code",
   "execution_count": 21,
   "metadata": {},
   "outputs": [],
   "source": [
    "def bins_histogram(data, precision=0.01, len_bin_min=0.1):\n",
    "    \"\"\"\n",
    "    Params\n",
    "    \n",
    "    data: 1d numpy array\n",
    "    precision: desired poisson precision of bins\n",
    "    \"\"\"\n",
    "    N = int(pow(1/precision,2))\n",
    "    data.sort()\n",
    "    x = data[::N]\n",
    "    y = data[1::N]\n",
    "    if y.shape[0] == x.shape[0]:\n",
    "        bins = np.concatenate((np.array(data.min()[np.newaxis]),(x[1:] + y[1:])/2, np.array(data.max()[np.newaxis])))\n",
    "    else:\n",
    "        bins = np.concatenate((np.array(data.min()[np.newaxis]),(x[1:-1] + y[1:])/2, np.array(data.max()[np.newaxis])))\n",
    "    return bins"
   ]
  },
  {
   "cell_type": "code",
   "execution_count": 22,
   "metadata": {},
   "outputs": [
    {
     "data": {
      "text/plain": [
       "(110269,)"
      ]
     },
     "execution_count": 22,
     "metadata": {},
     "output_type": "execute_result"
    }
   ],
   "source": [
    "data.shape"
   ]
  },
  {
   "cell_type": "code",
   "execution_count": 96,
   "metadata": {},
   "outputs": [
    {
     "name": "stdout",
     "output_type": "stream",
     "text": [
      "-69732.204480052\n",
      "[-6.97322045e+04  8.58211200e+01  2.43315360e+02  5.27899680e+02\n",
      "  1.06190352e+03  1.97206704e+03  3.40952976e+03  5.58585072e+03\n",
      "  8.89935120e+03  1.43252669e+04  2.48594098e+04  1.02707356e+05\n",
      "  1.07345769e+06]\n",
      "[3.65013907e+04 3.74882774e+04 4.79825165e+04 ... 9.30511505e+08\n",
      " 9.30531796e+08 9.30536269e+08]\n"
     ]
    }
   ],
   "source": [
    "data = np.array(df[\"time\"])\n",
    "data.sort()\n",
    "diff_data = data[1:] - data[:-1]\n",
    "print(diff_data.min())\n",
    "bins = bins_histogram(diff_data, 0.01)\n",
    "print(bins)\n",
    "print(data)\n"
   ]
  },
  {
   "cell_type": "code",
   "execution_count": 94,
   "metadata": {},
   "outputs": [
    {
     "name": "stderr",
     "output_type": "stream",
     "text": [
      "/home/mango/anaconda3/lib/python3.7/site-packages/ipykernel_launcher.py:4: RuntimeWarning: divide by zero encountered in log\n",
      "  after removing the cwd from sys.path.\n"
     ]
    }
   ],
   "source": [
    "\n",
    "\n",
    "data1 = np.log(data)\n",
    "bins1 = np.log(bins)"
   ]
  },
  {
   "cell_type": "code",
   "execution_count": 108,
   "metadata": {},
   "outputs": [
    {
     "data": {
      "text/plain": [
       "(array([9.6308e+04, 9.3760e+03, 2.8730e+03, 1.0070e+03, 4.0500e+02,\n",
       "        1.5100e+02, 7.7000e+01, 3.5000e+01, 2.1000e+01, 6.0000e+00]),\n",
       " array([     0.        ,  19908.726912  ,  39817.453824  ,  59726.18073599,\n",
       "         79634.90764799,  99543.63455999, 119452.36147199, 139361.08838398,\n",
       "        159269.81529598, 179178.54220798, 199087.26911998]),\n",
       " <a list of 10 Patch objects>)"
      ]
     },
     "execution_count": 108,
     "metadata": {},
     "output_type": "execute_result"
    },
    {
     "data": {
      "image/png": "[encoded data removed]",
      "text/plain": [
       "<Figure size 432x288 with 1 Axes>"
      ]
     },
     "metadata": {
      "needs_background": "light"
     },
     "output_type": "display_data"
    }
   ],
   "source": [
    "data = np.array(df[\"time\"])\n",
    "data.sort()\n",
    "diff_data = data[1:]-data[:-1]\n",
    "plt.hist(diff_data[diff_data<200000], log=True)"
   ]
  },
  {
   "cell_type": "code",
   "execution_count": null,
   "metadata": {},
   "outputs": [],
   "source": [
    "def select_bin_number(x, min_nbin = 7, fraction = 0.001):\n",
    "    n_min = fraction*len(x)\n",
    "\n",
    "    n, bin_extremes, _ = plt.hist(x, bins = min_nbin )\n",
    "    plt.close()\n",
    "    last_n = n[-1]\n",
    "\n",
    "    if last_n > n_min:\n",
    "        return min_nbin, bin_extremes\n",
    "    else:\n",
    "        i = min_nbin\n",
    "        nbin = min_nbin\n",
    "        while last_n < n_min and nbin < 100:\n",
    "            nbin = nbin + 1\n",
    "            #print('Attempt with nbin = {} \\n'.format(nbin))\n",
    "            n, _, _ = plt.hist(x, bins = nbin )\n",
    "            plt.close()\n",
    "            #print(n[i-1:])\n",
    "            last_n = n[i-1:].sum()\n",
    "            #print('Last n: ', last_n)\n",
    "            #print('All n : ', n.sum())\n",
    "\n",
    "        n, bin_extremes, _ = plt.hist(x, bins = nbin )\n",
    "        plt.close()\n",
    "        bins = np.concatenate((bin_extremes[:min_nbin],bin_extremes[-1:]))\n",
    "        return nbin, bins "
   ]
  },
  {
   "cell_type": "code",
   "execution_count": 109,
   "metadata": {},
   "outputs": [
    {
     "ename": "NameError",
     "evalue": "name 'diff' is not defined",
     "output_type": "error",
     "traceback": [
      "\u001b[0;31m------------------------------------------------------------------\u001b[0m",
      "\u001b[0;31mNameError\u001b[0m                        Traceback (most recent call last)",
      "\u001b[0;32m<ipython-input-109-ef1c563d04c6>\u001b[0m in \u001b[0;36m<module>\u001b[0;34m\u001b[0m\n\u001b[1;32m      3\u001b[0m \u001b[0mmin_nbin\u001b[0m \u001b[0;34m=\u001b[0m \u001b[0;36m7\u001b[0m\u001b[0;34m\u001b[0m\u001b[0;34m\u001b[0m\u001b[0m\n\u001b[1;32m      4\u001b[0m \u001b[0mfraction\u001b[0m \u001b[0;34m=\u001b[0m \u001b[0;36m0.001\u001b[0m\u001b[0;34m\u001b[0m\u001b[0;34m\u001b[0m\u001b[0m\n\u001b[0;32m----> 5\u001b[0;31m \u001b[0mn_bin\u001b[0m \u001b[0;34m=\u001b[0m \u001b[0mfraction\u001b[0m\u001b[0;34m*\u001b[0m\u001b[0mlen\u001b[0m\u001b[0;34m(\u001b[0m\u001b[0mdiff\u001b[0m\u001b[0;34m)\u001b[0m\u001b[0;34m\u001b[0m\u001b[0;34m\u001b[0m\u001b[0m\n\u001b[0m\u001b[1;32m      6\u001b[0m \u001b[0mn\u001b[0m\u001b[0;34m,\u001b[0m \u001b[0mbin_extremes\u001b[0m\u001b[0;34m,\u001b[0m \u001b[0m_\u001b[0m \u001b[0;34m=\u001b[0m \u001b[0mplt\u001b[0m\u001b[0;34m.\u001b[0m\u001b[0mhist\u001b[0m\u001b[0;34m(\u001b[0m\u001b[0mx\u001b[0m\u001b[0;34m,\u001b[0m \u001b[0mbins\u001b[0m \u001b[0;34m=\u001b[0m \u001b[0mmin_nbin\u001b[0m\u001b[0;34m)\u001b[0m\u001b[0;34m\u001b[0m\u001b[0;34m\u001b[0m\u001b[0m\n",
      "\u001b[0;31mNameError\u001b[0m: name 'diff' is not defined"
     ]
    }
   ],
   "source": [
    "filtered =df[df[\"magnitude\"]>3]\n",
    "times = np.array(filtered[\"time\"])\n",
    "min_nbin = 7\n",
    "fraction = 0.001\n",
    "n_bin = fraction*len(diff)\n",
    "n, bin_extremes, _ = plt.hist(x, bins = min_nbin)\n"
   ]
  },
  {
   "cell_type": "code",
   "execution_count": 110,
   "metadata": {},
   "outputs": [
    {
     "ename": "SyntaxError",
     "evalue": "invalid syntax (<ipython-input-110-2aac1c042c87>, line 1)",
     "output_type": "error",
     "traceback": [
      "\u001b[0;36m  File \u001b[0;32m\"<ipython-input-110-2aac1c042c87>\"\u001b[0;36m, line \u001b[0;32m1\u001b[0m\n\u001b[0;31m    ev = {'1':{'2':{'6','7'},'3'}}\u001b[0m\n\u001b[0m                                ^\u001b[0m\n\u001b[0;31mSyntaxError\u001b[0m\u001b[0;31m:\u001b[0m invalid syntax\n"
     ]
    }
   ],
   "source": [
    "ev = {'1':{'2':{'6','7'},'3'}} \n",
    "for key in ev:\n",
    "    for key2 in ev[key]:\n",
    "        "
   ]
  },
  {
   "cell_type": "code",
   "execution_count": 111,
   "metadata": {},
   "outputs": [],
   "source": [
    "def evees(df, index=-1):\n",
    "    dataset = {}\n",
    "    df_filtered = df[df[\"id_prv\"]==index]\n",
    "    lenght =  df_filtered.shape[0]\n",
    "    for i in range(lenght):\n",
    "        event = df_filtered.iloc[i]\n",
    "        dataset[str(event[\"id\"])] = {\"event\" : event}\n",
    "        dataset[str(event[\"id\"])][\"cilds\"] = evees(df, index=int(event[\"id\"]))\n",
    "    return dataset\n",
    "\n"
   ]
  },
  {
   "cell_type": "code",
   "execution_count": 113,
   "metadata": {},
   "outputs": [],
   "source": [
    "depths = []\n",
    "def evees_light(df, index=-1, depth=0):\n",
    "    dataset = {}\n",
    "    df_filtered = df[df[\"id_prv\"]==index]\n",
    "    lenght =  df_filtered.shape[0]\n",
    "    if lenght == 0:\n",
    "        print(depths.append(depth))\n",
    "    for i in range(lenght):\n",
    "        event = df_filtered.iloc[i]\n",
    "        #dataset[str(event[\"id\"])] = {\"event\" : event}\n",
    "        dataset[str(event[\"id\"])] = {\"depth\" : depth}\n",
    "        dataset[str(event[\"id\"])][\"cilds\"] = evees_light(df, index=int(event[\"id\"]), depth = depth + 1)\n",
    "    return dataset"
   ]
  },
  {
   "cell_type": "code",
   "execution_count": null,
   "metadata": {},
   "outputs": [],
   "source": []
  }
 ],
 "metadata": {
  "kernelspec": {
   "display_name": "Python 3",
   "language": "python",
   "name": "python3"
  },
  "language_info": {
   "codemirror_mode": {
    "name": "ipython",
    "version": 3
   },
   "file_extension": ".py",
   "mimetype": "text/x-python",
   "name": "python",
   "nbconvert_exporter": "python",
   "pygments_lexer": "ipython3",
   "version": "3.7.1"
  }
 },
 "nbformat": 4,
 "nbformat_minor": 2
}
