{
 "cells": [
  {
   "cell_type": "code",
   "execution_count": 1,
   "metadata": {},
   "outputs": [],
   "source": [
    "import pandas as pd\n",
    "import numpy as np\n",
<<<<<<< Updated upstream
<<<<<<< Updated upstream
=======
    "import scipy as sp\n",
>>>>>>> Stashed changes
=======
    "import scipy as sp\n",
>>>>>>> Stashed changes
    "import matplotlib.pyplot as plt"
   ]
  },
  {
   "cell_type": "code",
   "execution_count": 2,
   "metadata": {},
   "outputs": [],
   "source": [
    "file = '/home/mango/Documents/unipd/Earthquakes/SouthCalifornia-1982-2011_Physics-of-Data.dat' \n",
<<<<<<< Updated upstream
<<<<<<< Updated upstream
    "data = np.genfromtxt(file, skip_header=0, skip_footer=1, names=True, dtype=None, delimiter=' ')         \n",
=======
    "data = np.genfromtxt(file, skip_header=0, skip_footer=1, \n",
    "                     names=True, dtype=None, delimiter=' ')         \n",
>>>>>>> Stashed changes
=======
    "data = np.genfromtxt(file, skip_header=0, skip_footer=1, \n",
    "                     names=True, dtype=None, delimiter=' ')         \n",
>>>>>>> Stashed changes
    "header = [\"id\",\"id_prv\",\"time\",\"magnitude\",\"x\",\"y\", \"z\"]\n",
    "df = pd.DataFrame(data)\n",
    "df.columns = header"
   ]
  },
  {
   "cell_type": "code",
   "execution_count": 15,
   "metadata": {},
   "outputs": [
    {
     "data": {
      "text/plain": [
       "[<matplotlib.lines.Line2D at 0x7fb30b3e3a58>]"
      ]
     },
     "execution_count": 15,
     "metadata": {},
     "output_type": "execute_result"
    },
    {
     "data": {
      "image/png": "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\n",
      "text/plain": [
       "<Figure size 432x288 with 1 Axes>"
      ]
     },
     "metadata": {
      "needs_background": "light"
     },
     "output_type": "display_data"
    }
   ],
   "source": [
    "#plt.plot(df[\"time\"], df[\"magnitude\"])\n",
    "#plt.plot(df[\"time\"], df[\"x\"])\n",
    "#plt.plot(df[\"time\"], df[\"y\"])\n",
    "#plt.plot(df[\"time\"], df[\"z\"])\n",
    "#plt.plot(df[\"time\"], df[\"id_prv\"])\n"
   ]
  },
  {
   "cell_type": "code",
   "execution_count": null,
   "metadata": {},
   "outputs": [],
   "source": []
  }
 ],
 "metadata": {
  "kernelspec": {
   "display_name": "Python 3",
   "language": "python",
   "name": "python3"
  },
  "language_info": {
   "codemirror_mode": {
    "name": "ipython",
    "version": 3
   },
   "file_extension": ".py",
   "mimetype": "text/x-python",
   "name": "python",
   "nbconvert_exporter": "python",
   "pygments_lexer": "ipython3",
<<<<<<< Updated upstream
<<<<<<< Updated upstream
   "version": "3.7.0"
=======
   "version": "3.7.1"
>>>>>>> Stashed changes
=======
   "version": "3.7.1"
>>>>>>> Stashed changes
  }
 },
 "nbformat": 4,
 "nbformat_minor": 2
}
